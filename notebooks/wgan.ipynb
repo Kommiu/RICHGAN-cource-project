{
 "cells": [
  {
   "cell_type": "code",
   "execution_count": 11,
   "metadata": {
    "ExecuteTime": {
     "end_time": "2019-10-12T22:32:03.089488Z",
     "start_time": "2019-10-12T22:32:03.078757Z"
    }
   },
   "outputs": [],
   "source": [
    "from pathlib import Path\n",
    "from importlib import reload\n",
    "\n",
    "import pandas as pd\n",
    "import numpy as np\n",
    "from tqdm.auto import trange, tqdm\n",
    "from sklearn.model_selection import train_test_split\n",
    "from sklearn.preprocessing import QuantileTransformer, MinMaxScaler\n",
    "import torch\n",
    "import torch.nn as nn\n",
    "import torch.optim as optim\n",
    "import torch.nn.functional as F\n",
    "import torch.utils.data as data\n",
    "import sys\n",
    "sys.path.insert(0, '/app')\n",
    "import lib.collections as lc\n",
    "from torchvision.transforms import Compose, ToTensor\n",
    "from torch.utils.tensorboard import SummaryWriter"
   ]
  },
  {
   "cell_type": "code",
   "execution_count": 15,
   "metadata": {
    "ExecuteTime": {
     "end_time": "2019-10-12T22:32:37.788451Z",
     "start_time": "2019-10-12T22:32:37.780890Z"
    }
   },
   "outputs": [
    {
     "data": {
      "text/plain": [
       "(tensor([1., 1., 1., 1., 1.]), tensor([1., 1., 1., 1., 1.]))"
      ]
     },
     "execution_count": 15,
     "metadata": {},
     "output_type": "execute_result"
    }
   ],
   "source": [
    "torch.split(torch.ones(10), (5,5))"
   ]
  },
  {
   "cell_type": "code",
   "execution_count": 3,
   "metadata": {
    "ExecuteTime": {
     "end_time": "2019-10-12T19:07:21.118110Z",
     "start_time": "2019-10-12T19:07:21.001362Z"
    }
   },
   "outputs": [],
   "source": [
    "from models.gans import GAN, CGAN, WGAN, MLPDiscriminator, MLPGenerator"
   ]
  },
  {
   "cell_type": "code",
   "execution_count": 4,
   "metadata": {
    "ExecuteTime": {
     "end_time": "2019-10-12T19:07:21.203904Z",
     "start_time": "2019-10-12T19:07:21.184917Z"
    }
   },
   "outputs": [],
   "source": [
    "seed = 42\n",
    "batch_size = 256\n",
    "epoch_num = 30\n",
    "torch.manual_seed(seed)\n",
    "device = torch.device(\"cuda\" if torch.cuda.is_available() else \"cpu\")"
   ]
  },
  {
   "cell_type": "code",
   "execution_count": 5,
   "metadata": {
    "ExecuteTime": {
     "end_time": "2019-10-12T19:07:42.462273Z",
     "start_time": "2019-10-12T19:07:21.912659Z"
    }
   },
   "outputs": [
    {
     "data": {
      "application/vnd.jupyter.widget-view+json": {
       "model_id": "c451db286a924d20a02d0ea0807f7193",
       "version_major": 2,
       "version_minor": 0
      },
      "text/plain": [
       "HBox(children=(IntProgress(value=1, bar_style='info', max=1), HTML(value='')))"
      ]
     },
     "metadata": {},
     "output_type": "display_data"
    },
    {
     "name": "stdout",
     "output_type": "stream",
     "text": [
      "\n"
     ]
    },
    {
     "data": {
      "application/vnd.jupyter.widget-view+json": {
       "model_id": "74d6c2077caa47079a6a4c68af909cec",
       "version_major": 2,
       "version_minor": 0
      },
      "text/plain": [
       "HBox(children=(IntProgress(value=0, max=6), HTML(value='')))"
      ]
     },
     "metadata": {},
     "output_type": "display_data"
    },
    {
     "name": "stdout",
     "output_type": "stream",
     "text": [
      "\n"
     ]
    }
   ],
   "source": [
    "data_dir = Path('/_data/data_csv/')\n",
    "\n",
    "dataframes = {}\n",
    "for file in tqdm(data_dir.iterdir()):\n",
    "    name = file.stem.split('_')[1]\n",
    "    train, test = train_test_split(pd.read_csv(file.as_posix(), dtype=np.float32), random_state=seed)\n",
    "    dataframes[name]  =  {'train': train, 'test': test}\n",
    "    \n",
    "condition_cols = ['TrackP', 'TrackEta', 'NumLongTracks']\n",
    "target_cols = ['RichDLLbt', 'RichDLLk', 'RichDLLmu', 'RichDLLp', 'RichDLLe']\n",
    "\n",
    "\n",
    "transformers = dict()\n",
    "\n",
    "for particle in tqdm(dataframes):\n",
    "    tr = QuantileTransformer(output_distribution='normal',random_state=seed)\n",
    "    dataframes[particle]['train'][:] = tr.fit_transform(\n",
    "        dataframes[particle]['train']\n",
    "    ).astype(np.float32)\n",
    "\n",
    "    dataframes[particle]['test'][:] = tr.transform(dataframes[particle]['test']).astype(np.float32)\n",
    "    transformers[particle] = tr\n",
    "    "
   ]
  },
  {
   "cell_type": "code",
   "execution_count": 6,
   "metadata": {
    "ExecuteTime": {
     "end_time": "2019-10-12T19:07:46.218123Z",
     "start_time": "2019-10-12T19:07:42.466140Z"
    }
   },
   "outputs": [],
   "source": [
    "latent_dim = 50\n",
    "condition_dim = 3\n",
    "d_hidden_dims = [32, 64, 128, 128]\n",
    "g_hidden_dims = [32, 64, 128, 128]\n",
    "target_dim = 5\n",
    "\n",
    "device = torch.device('cuda:0')\n",
    "generator = MLPGenerator(latent_dim, condition_dim, g_hidden_dims, target_dim,).to(device)\n",
    "discriminator = MLPDiscriminator(target_dim, condition_dim, d_hidden_dims).to(device)\n",
    "\n",
    "generator_opt = optim.Adam(generator.parameters(), lr=1e-4,betas=(0, 0.9))\n",
    "discriminator_opt = optim.Adam(discriminator.parameters(), lr=1e-4,betas=(0, 0.9))\n",
    "\n",
    "\n",
    "model = WGAN(\n",
    "    generator,\n",
    "    discriminator,\n",
    "    generator_opt,\n",
    "    discriminator_opt,\n",
    "    lambda_gp=10\n",
    ")"
   ]
  },
  {
   "cell_type": "code",
   "execution_count": 7,
   "metadata": {
    "ExecuteTime": {
     "end_time": "2019-10-12T19:07:46.330373Z",
     "start_time": "2019-10-12T19:07:46.220290Z"
    }
   },
   "outputs": [],
   "source": [
    "datasets = {\n",
    "    particle: { \n",
    "        phase: lc.Dataset(\n",
    "            dataframes[particle][phase][condition_cols].values,\n",
    "            dataframes[particle][phase][target_cols].values,\n",
    "        )\n",
    "        for phase in dataframes[particle]\n",
    "    }\n",
    "    for particle in dataframes \n",
    "}\n",
    "\n",
    "\n",
    "dataloaders = {\n",
    "    particle: { \n",
    "        phase: data.DataLoader(\n",
    "            datasets[particle][phase],\n",
    "            batch_size=batch_size,\n",
    "            shuffle=True,\n",
    "            num_workers=4,\n",
    "            pin_memory=True,\n",
    "        )\n",
    "        for phase in dataframes[particle]\n",
    "    }\n",
    "    for particle in dataframes \n",
    "}"
   ]
  },
  {
   "cell_type": "code",
   "execution_count": 10,
   "metadata": {
    "ExecuteTime": {
     "end_time": "2019-10-12T19:45:48.854300Z",
     "start_time": "2019-10-12T19:13:12.592437Z"
    }
   },
   "outputs": [
    {
     "data": {
      "application/vnd.jupyter.widget-view+json": {
       "model_id": "ea8cb781255b4f828cc57786e973d552",
       "version_major": 2,
       "version_minor": 0
      },
      "text/plain": [
       "HBox(children=(IntProgress(value=0, max=30), HTML(value='')))"
      ]
     },
     "metadata": {},
     "output_type": "display_data"
    },
    {
     "data": {
      "application/vnd.jupyter.widget-view+json": {
       "model_id": "520ac491c55040489909fdd663582a70",
       "version_major": 2,
       "version_minor": 0
      },
      "text/plain": [
       "HBox(children=(IntProgress(value=0, description='train', max=2930, style=ProgressStyle(description_width='init…"
      ]
     },
     "metadata": {},
     "output_type": "display_data"
    },
    {
     "data": {
      "application/vnd.jupyter.widget-view+json": {
       "model_id": "061afa2a1e0542408ade535e1005c125",
       "version_major": 2,
       "version_minor": 0
      },
      "text/plain": [
       "HBox(children=(IntProgress(value=0, description='test', max=2930, style=ProgressStyle(description_width='initi…"
      ]
     },
     "metadata": {},
     "output_type": "display_data"
    },
    {
     "name": "stdout",
     "output_type": "stream",
     "text": [
      "Epoch  4 score:  0.05043620174480701\n",
      "Epoch  5 score:  0.046592186368745514\n",
      "Epoch  6 score:  0.04004816019264079\n",
      "Epoch  7 score:  0.06681626726506906\n",
      "Epoch  8 score:  0.10805643222572892\n",
      "Epoch  9 score:  0.17062868251473007\n",
      "Epoch  10 score:  0.04591218364873462\n",
      "Epoch  11 score:  0.04106016424065695\n",
      "Epoch  12 score:  0.04225216900867601\n",
      "Epoch  13 score:  0.04235216940867759\n",
      "Epoch  14 score:  0.04517218068872275\n",
      "Epoch  15 score:  0.040912163648654604\n",
      "Epoch  16 score:  0.03532814131256523\n",
      "Epoch  17 score:  0.04719618878475512\n",
      "Epoch  18 score:  0.031032124128496513\n",
      "Epoch  19 score:  0.025812103248413043\n",
      "Epoch  20 score:  0.021432085728342876\n",
      "Epoch  21 score:  0.037376149504598\n",
      "Epoch  22 score:  0.023360093440373764\n",
      "Epoch  23 score:  0.031860127440509756\n",
      "Epoch  24 score:  0.03731214924859699\n",
      "Epoch  25 score:  0.02448809795239182\n",
      "Epoch  26 score:  0.0480401921607686\n",
      "Epoch  27 score:  0.050288201152804635\n",
      "Epoch  28 score:  0.0387321549286197\n",
      "Epoch  29 score:  0.030040120160480743\n",
      "Epoch  30 score:  0.023384093536374162\n",
      "Epoch  31 score:  0.031856127424509606\n",
      "Epoch  32 score:  0.03451613806455228\n",
      "Epoch  33 score:  0.023532094128376535\n",
      "\n"
     ]
    }
   ],
   "source": [
    "model.train(\n",
    "    dataloaders['kaon'], \n",
    "    writer=SummaryWriter('/_data/richgan/runs/wgan_gp'),\n",
    "    start_epoch=4,\n",
    "    num_epochs=30,\n",
    "    log_grad_norms=True,\n",
    "    plot_dists=True,\n",
    ")"
   ]
  },
  {
   "cell_type": "code",
   "execution_count": null,
   "metadata": {},
   "outputs": [],
   "source": []
  },
  {
   "cell_type": "code",
   "execution_count": null,
   "metadata": {},
   "outputs": [],
   "source": []
  },
  {
   "cell_type": "code",
   "execution_count": null,
   "metadata": {},
   "outputs": [],
   "source": []
  }
 ],
 "metadata": {
  "kernelspec": {
   "display_name": "Python 3",
   "language": "python",
   "name": "python3"
  },
  "language_info": {
   "codemirror_mode": {
    "name": "ipython",
    "version": 3
   },
   "file_extension": ".py",
   "mimetype": "text/x-python",
   "name": "python",
   "nbconvert_exporter": "python",
   "pygments_lexer": "ipython3",
   "version": "3.6.4"
  },
  "toc": {
   "base_numbering": 1,
   "nav_menu": {},
   "number_sections": true,
   "sideBar": true,
   "skip_h1_title": false,
   "title_cell": "Table of Contents",
   "title_sidebar": "Contents",
   "toc_cell": false,
   "toc_position": {},
   "toc_section_display": true,
   "toc_window_display": false
  }
 },
 "nbformat": 4,
 "nbformat_minor": 2
}
