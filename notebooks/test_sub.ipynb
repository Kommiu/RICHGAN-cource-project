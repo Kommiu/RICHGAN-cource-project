{
 "cells": [
  {
   "cell_type": "code",
   "execution_count": 1,
   "metadata": {
    "ExecuteTime": {
     "end_time": "2019-10-12T14:46:57.720016Z",
     "start_time": "2019-10-12T14:46:56.585653Z"
    }
   },
   "outputs": [],
   "source": [
    "from pathlib import Path\n",
    "from importlib import reload\n",
    "\n",
    "import pandas as pd\n",
    "import numpy as np\n",
    "from tqdm.auto import trange, tqdm\n",
    "from sklearn.model_selection import train_test_split\n",
    "from sklearn.preprocessing import QuantileTransformer, MinMaxScaler\n",
    "import torch\n",
    "import torch.nn as nn\n",
    "import torch.optim as optim\n",
    "import torch.nn.functional as F\n",
    "import torch.utils.data as data\n",
    "import sys\n",
    "sys.path.insert(0, '/app')\n",
    "import libs.collections as lc\n",
    "from torchvision.transforms import Compose, ToTensor\n",
    "from torch.utils.tensorboard import SummaryWriter\n",
    "\n",
    "from libs.metrics import score_func"
   ]
  },
  {
   "cell_type": "code",
   "execution_count": 2,
   "metadata": {
    "ExecuteTime": {
     "end_time": "2019-10-12T14:47:01.668923Z",
     "start_time": "2019-10-12T14:46:57.721988Z"
    }
   },
   "outputs": [],
   "source": [
    "import submission_model as sm"
   ]
  },
  {
   "cell_type": "code",
   "execution_count": 3,
   "metadata": {
    "ExecuteTime": {
     "end_time": "2019-10-12T14:47:02.831875Z",
     "start_time": "2019-10-12T14:47:02.826541Z"
    }
   },
   "outputs": [],
   "source": [
    "model = sm.Model()"
   ]
  },
  {
   "cell_type": "code",
   "execution_count": 5,
   "metadata": {
    "ExecuteTime": {
     "end_time": "2019-10-12T14:47:10.372885Z",
     "start_time": "2019-10-12T14:47:03.177031Z"
    }
   },
   "outputs": [
    {
     "data": {
      "application/vnd.jupyter.widget-view+json": {
       "model_id": "a56603cff4934d809dcfb88a225c9599",
       "version_major": 2,
       "version_minor": 0
      },
      "text/plain": [
       "HBox(children=(IntProgress(value=1, bar_style='info', max=1), HTML(value='')))"
      ]
     },
     "metadata": {},
     "output_type": "display_data"
    },
    {
     "name": "stdout",
     "output_type": "stream",
     "text": [
      "\n"
     ]
    }
   ],
   "source": [
    "data_dir = Path('/_data/data_csv/')\n",
    "\n",
    "dataframes = {}\n",
    "for file in tqdm(data_dir.iterdir()):\n",
    "    name = file.stem.split('_')[1]\n",
    "    train, test = train_test_split(pd.read_csv(file.as_posix(), dtype=np.float32), random_state=seed)\n",
    "    dataframes[name]  =  {'train': train, 'test': test}\n",
    "    \n",
    "condition_cols = ['TrackP', 'TrackEta', 'NumLongTracks']\n",
    "target_cols = ['RichDLLbt', 'RichDLLk', 'RichDLLmu', 'RichDLLp', 'RichDLLe']\n",
    "\n",
    "\n",
    "# transformers = dict()\n",
    "\n",
    "# for particle in tqdm(dataframes):\n",
    "#     tr = QuantileTransformer(output_distribution='normal',random_state=seed)\n",
    "#     dataframes[particle]['train'][:] = tr.fit_transform(\n",
    "#         dataframes[particle]['train']\n",
    "#     ).astype(np.float32)\n",
    "\n",
    "#     dataframes[particle]['test'][:] = tr.transform(dataframes[particle]['test']).astype(np.float32)\n",
    "#     transformers[particle] = tr\n",
    "    "
   ]
  },
  {
   "cell_type": "code",
   "execution_count": 31,
   "metadata": {
    "ExecuteTime": {
     "end_time": "2019-10-12T15:45:02.844631Z",
     "start_time": "2019-10-12T15:45:02.832151Z"
    }
   },
   "outputs": [],
   "source": [
    "def plot_hist(x, y):\n",
    "    fig = plt.figure(frameon=False);\n",
    "    ax = fig.subplots(1);\n",
    "    _, bins, _ = ax.hist(x,bins=100, label='true', alpha=0.7);\n",
    "    _ = ax.hist(y, bins=bins, label='fake', alpha=0.7);\n",
    "    fig.legend();\n",
    "    plt.close(fig)\n",
    "    return fig\n"
   ]
  },
  {
   "cell_type": "code",
   "execution_count": 33,
   "metadata": {
    "ExecuteTime": {
     "end_time": "2019-10-12T15:45:23.922652Z",
     "start_time": "2019-10-12T15:45:23.917027Z"
    }
   },
   "outputs": [],
   "source": [
    "import matplotlib.pyplot as plt"
   ]
  },
  {
   "cell_type": "code",
   "execution_count": null,
   "metadata": {
    "ExecuteTime": {
     "start_time": "2019-10-12T15:48:08.785Z"
    }
   },
   "outputs": [
    {
     "data": {
      "application/vnd.jupyter.widget-view+json": {
       "model_id": "699da48004f14f1b811c4f204a6bde9e",
       "version_major": 2,
       "version_minor": 0
      },
      "text/plain": [
       "HBox(children=(IntProgress(value=0, max=4), HTML(value='')))"
      ]
     },
     "metadata": {},
     "output_type": "display_data"
    },
    {
     "data": {
      "application/vnd.jupyter.widget-view+json": {
       "model_id": "3b48d33336224d1ea85be75011164f20",
       "version_major": 2,
       "version_minor": 0
      },
      "text/plain": [
       "HBox(children=(IntProgress(value=0, max=20), HTML(value='')))"
      ]
     },
     "metadata": {},
     "output_type": "display_data"
    },
    {
     "data": {
      "application/vnd.jupyter.widget-view+json": {
       "model_id": "254d8171f1494e689d1d9ada3c5f69b3",
       "version_major": 2,
       "version_minor": 0
      },
      "text/plain": [
       "HBox(children=(IntProgress(value=0, description='train', max=2888, style=ProgressStyle(description_width='init…"
      ]
     },
     "metadata": {},
     "output_type": "display_data"
    }
   ],
   "source": [
    "for particle in tqdm(['proton', 'muon', 'kaon', 'pion']):\n",
    "    c_train = dataframes[particle]['train'][condition_cols]\n",
    "    x_train = dataframes[particle]['train'][target_cols]\n",
    "    c_test = dataframes[particle]['test'][condition_cols]\n",
    "    x_test = dataframes[particle]['test'][target_cols]\n",
    "    model = sm.Model()\n",
    "    model.fit(c_train, x_train)\n",
    "    predicted = model.predict(c_test)\n",
    "    reference= np.c_[x_test.values, c_test.values]\n",
    "    generated = np.c_[predicted.values, c_test.values]\n",
    "    score = score_func(generated, reference)\n",
    "    print(particle, ': ', score)\n",
    "    for col in target_cols:\n",
    "        fig = plot_hist(x_test[col].values, predicted[col].values)\n",
    "        display(fig)\n",
    "    print()\n",
    "        "
   ]
  },
  {
   "cell_type": "code",
   "execution_count": null,
   "metadata": {},
   "outputs": [],
   "source": []
  }
 ],
 "metadata": {
  "kernelspec": {
   "display_name": "Python 3",
   "language": "python",
   "name": "python3"
  },
  "language_info": {
   "codemirror_mode": {
    "name": "ipython",
    "version": 3
   },
   "file_extension": ".py",
   "mimetype": "text/x-python",
   "name": "python",
   "nbconvert_exporter": "python",
   "pygments_lexer": "ipython3",
   "version": "3.6.4"
  },
  "toc": {
   "base_numbering": 1,
   "nav_menu": {},
   "number_sections": true,
   "sideBar": true,
   "skip_h1_title": false,
   "title_cell": "Table of Contents",
   "title_sidebar": "Contents",
   "toc_cell": false,
   "toc_position": {},
   "toc_section_display": true,
   "toc_window_display": false
  }
 },
 "nbformat": 4,
 "nbformat_minor": 2
}
